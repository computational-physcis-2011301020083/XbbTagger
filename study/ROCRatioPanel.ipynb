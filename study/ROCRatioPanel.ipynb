{
 "cells": [
  {
   "cell_type": "code",
   "execution_count": 2,
   "metadata": {},
   "outputs": [],
   "source": [
    "import math,os,glob,h5py\n",
    "import numpy as np\n",
    "import matplotlib.pyplot as plt\n",
    "from sklearn.metrics import roc_curve, roc_auc_score"
   ]
  },
  {
   "cell_type": "code",
   "execution_count": 14,
   "metadata": {},
   "outputs": [
    {
     "name": "stdout",
     "output_type": "stream",
     "text": [
      "(3000000, 26)\n"
     ]
    },
    {
     "name": "stderr",
     "output_type": "stream",
     "text": [
      "/usr/local/bin/start_ipykernel.py:57: RuntimeWarning: divide by zero encountered in power\n",
      "/usr/local/bin/start_ipykernel.py:58: RuntimeWarning: divide by zero encountered in power\n",
      "/usr/local/bin/start_ipykernel.py:59: RuntimeWarning: divide by zero encountered in power\n",
      "/usr/local/bin/start_ipykernel.py:60: RuntimeWarning: divide by zero encountered in power\n",
      "/usr/local/bin/start_ipykernel.py:74: RuntimeWarning: invalid value encountered in double_scalars\n",
      "/usr/local/bin/start_ipykernel.py:80: RuntimeWarning: divide by zero encountered in power\n",
      "/usr/local/bin/start_ipykernel.py:83: RuntimeWarning: divide by zero encountered in power\n"
     ]
    },
    {
     "data": {
      "image/png": "[encoded data removed]",
      "text/plain": [
       "<Figure size 432x288 with 2 Axes>"
      ]
     },
     "metadata": {
      "needs_background": "light"
     },
     "output_type": "display_data"
    }
   ],
   "source": [
    "filepath=\"prediction_WeiAdmStd_PCJKDL1r.h5\"\n",
    "load_file=h5py.File(filepath,'r')\n",
    "\n",
    "predict=load_file.get(\"predict\")\n",
    "print predict.shape\n",
    "predict=np.reshape(predict,(predict.shape[0],predict.shape[1]))\n",
    "#predict=predict[(predict[:,10]<=138.) & (predict[:,10]>=84.)] #loose\n",
    "#predict=predict[(predict[:,11]<=500.) & (predict[:,11]>=250.)]\n",
    "#predict=predict[(predict[:,11]<=1000.) & (predict[:,11]>=500.)]\n",
    "#predict=predict[predict[:,11]>=1000.]\n",
    "#predict=predict[predict[:,2]==0]\n",
    "predict=predict[predict[:,0]==0]\n",
    "y=predict[:,1]\n",
    "\n",
    "JKDL1rScoreHiggs=predict[:,15]\n",
    "#JKDL1rScoreQCD=predict[:,14]\n",
    "JKDL1rScoreQCD=predict[:,16]\n",
    "JKDL1r=np.true_divide(JKDL1rScoreHiggs,JKDL1rScoreQCD)\n",
    "JKDL1r=np.nan_to_num(JKDL1r)\n",
    "\n",
    "PC_JKDL1rScoreHiggs=predict[:,18]\n",
    "#PC_JKDL1rScoreQCD=predict[:,17]\n",
    "PC_JKDL1rScoreQCD=predict[:,19]\n",
    "PC_JKDL1r=np.true_divide(PC_JKDL1rScoreHiggs,PC_JKDL1rScoreQCD)\n",
    "PC_JKDL1r=np.nan_to_num(PC_JKDL1r)\n",
    "\n",
    "#JKFTAG\n",
    "EFTAGScoreHiggs=predict[:,21]\n",
    "#EFTAGScoreQCD=predict[:,20]\n",
    "EFTAGScoreQCD=predict[:,22]\n",
    "EFTAG=np.true_divide(EFTAGScoreHiggs,EFTAGScoreQCD)\n",
    "EFTAG=np.nan_to_num(EFTAG)\n",
    "#JKDL1r\n",
    "EDL1rScoreHiggs=predict[:,24]\n",
    "#EDL1rScoreQCD=predict[:,23]\n",
    "EDL1rScoreQCD=predict[:,25]\n",
    "EDL1r=np.true_divide(EDL1rScoreHiggs,EDL1rScoreQCD)\n",
    "EDL1r=np.nan_to_num(EDL1r)\n",
    "\n",
    "DL1rBaseline=predict[:,13]\n",
    "w=predict[:,3]\n",
    "#w=np.full((y.shape[0], ), 1)\n",
    "\n",
    "JKDL1r_bkg,JKDL1r_signal,JKDL1r_thres=roc_curve(y,JKDL1r,sample_weight=w)\n",
    "PC_JKDL1r_bkg,PC_JKDL1r_signal,PC_JKDL1r_thres=roc_curve(y,PC_JKDL1r,sample_weight=w)\n",
    "DL1rBaseline_bkg,DL1rBaseline_signal,DL1rBaseline_thres=roc_curve(y,DL1rBaseline,sample_weight=w)\n",
    "\n",
    "AUC_JKDL1r=roc_auc_score(y, JKDL1r,sample_weight=w)\n",
    "AUC_PC_JKDL1r=roc_auc_score(y, PC_JKDL1r,sample_weight=w)\n",
    "AUC_DL1rBaseline=roc_auc_score(y, DL1rBaseline,sample_weight=w)\n",
    "\n",
    "EFTAG_bkg,EFTAG_signal,EFTAG_thres=roc_curve(y,EFTAG,sample_weight=w)\n",
    "AUC_EFTAG=roc_auc_score(y, EFTAG,sample_weight=w)\n",
    "EDL1r_bkg,EDL1r_signal,EDL1r_thres=roc_curve(y,EDL1r,sample_weight=w)\n",
    "AUC_EDL1r=roc_auc_score(y, EDL1r,sample_weight=w)\n",
    "\n",
    "FTAG_info=np.column_stack((PC_JKDL1r_signal,np.power(PC_JKDL1r_bkg,-1.0)))\n",
    "EFTAG_info=np.column_stack((EFTAG_signal,np.power(EFTAG_bkg,-1.0)))\n",
    "DL1r_info=np.column_stack((JKDL1r_signal,np.power(JKDL1r_bkg,-1.0)))\n",
    "EDL1r_info=np.column_stack((EDL1r_signal,np.power(EDL1r_bkg,-1.0)))\n",
    "eff=[]\n",
    "ratio=[]\n",
    "axis=[]\n",
    "for i in range(100):\n",
    "    j=i/100.0\n",
    "    eff.append(j)\n",
    "    axis.append(1)\n",
    "    #print j\n",
    "    #print FTAG_info[abs(FTAG_info[:,0]-j)==abs(FTAG_info[:,0]-j).min()]\n",
    "    a=FTAG_info[abs(FTAG_info[:,0]-j)==abs(FTAG_info[:,0]-j).min()][0,1]\n",
    "    b=EFTAG_info[abs(EFTAG_info[:,0]-j)==abs(EFTAG_info[:,0]-j).min()][0,1]\n",
    "    #a=DL1r_info[abs(DL1r_info[:,0]-j)==abs(DL1r_info[:,0]-j).min()][0,1]\n",
    "    #b=EDL1r_info[abs(EDL1r_info[:,0]-j)==abs(EDL1r_info[:,0]-j).min()][0,1]\n",
    "    ratio.append(b/a)\n",
    "#print eff,ratio\n",
    "#print FTAG_info.shape,EFTAG_bkg.shape\n",
    "#print FTAG_bkg[200:210],EFTAG_bkg[200:210]\n",
    "\n",
    "plt.subplot(2, 1, 1)\n",
    "plt.plot(EFTAG_signal,np.power(EFTAG_bkg,-1.0),label=\"PC_JKDL1r(OPT) \"+\"AUC: \"+str(AUC_EFTAG)[0:6])\n",
    "#plt.plot(EFTAG_signal,np.power(EFTAG_bkg,-1.0),label=\"JKDL1r(OPT) \"+\"AUC: \"+str(AUC_EFTAG)[0:6])\n",
    "#plt.plot(JKDL1r_signal,np.power(JKDL1r_bkg,-1.0),label=\"JKDL1r \"+\"AUC: \"+str(AUC_JKDL1r)[0:6])\n",
    "plt.plot(PC_JKDL1r_signal,np.power(PC_JKDL1r_bkg,-1.0),label=\"PC_JKDL1r \"+\"AUC: \"+str(AUC_PC_JKDL1r)[0:6])\n",
    "#plt.title('Hbb vs. Dijets (Full range)')\n",
    "#plt.title('Hbb vs. Dijets (Loose mass window)')\n",
    "#plt.title('Hbb vs. Dijets (pt:[250,500]GeV)')\n",
    "#plt.title('Hbb vs. Dijets (pt:[500,1000]GeV)')\n",
    "#plt.title('Hbb vs. Dijets (pt:[1000,3000]GeV)')\n",
    "plt.title('Hbb vs. Top (Full range)')\n",
    "#plt.title('Hbb vs. Top (Loose mass window)')\n",
    "#plt.title('Hbb vs. Top (pt:[250,500]GeV)')\n",
    "#plt.title('Hbb vs. Top (pt:[500,1000]GeV)')\n",
    "#plt.title('Hbb vs. Top (pt:[1000,3000]GeV)')\n",
    "plt.xlabel('Signal Efficiency')\n",
    "plt.ylabel('Background Rejection')\n",
    "plt.yscale(\"log\", nonposy=\"clip\")\n",
    "plt.xlim(left=0.2)\n",
    "plt.ylim(top=1e5*0.1)\n",
    "#plt.ylim(bottom=0)\n",
    "plt.legend(loc='best')\n",
    "plt.subplot(2, 1, 2)\n",
    "plt.plot(eff, ratio, '.-')\n",
    "plt.plot(eff,axis)\n",
    "plt.xlim(left=0.2)\n",
    "plt.ylim(top=1.1)\n",
    "plt.ylim(bottom=0.9)\n",
    "plt.xlabel('Signal Efficiency')\n",
    "plt.ylabel('Opt/Nominal')\n",
    "ROC_file=\"figuresPCJKDL1r/\"+\"OptPCJKDL1r_Top.pdf\"\n",
    "ROC_file1=ROC_file.replace(\"pdf\",\"jpg\")\n",
    "plt.savefig(ROC_file)\n",
    "plt.savefig(ROC_file1)"
   ]
  },
  {
   "cell_type": "code",
   "execution_count": null,
   "metadata": {},
   "outputs": [],
   "source": []
  }
 ],
 "metadata": {
  "kernelspec": {
   "display_name": "Python 2",
   "language": "python",
   "name": "python2"
  },
  "language_info": {
   "codemirror_mode": {
    "name": "ipython",
    "version": 2
   },
   "file_extension": ".py",
   "mimetype": "text/x-python",
   "name": "python",
   "nbconvert_exporter": "python",
   "pygments_lexer": "ipython2",
   "version": "2.7.16"
  }
 },
 "nbformat": 4,
 "nbformat_minor": 4
}
