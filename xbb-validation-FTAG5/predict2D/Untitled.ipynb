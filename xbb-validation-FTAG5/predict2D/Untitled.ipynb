{
 "cells": [
  {
   "cell_type": "code",
   "execution_count": 1,
   "metadata": {},
   "outputs": [
    {
     "name": "stdout",
     "output_type": "stream",
     "text": [
      "Welcome to JupyROOT 6.18/00\n"
     ]
    }
   ],
   "source": [
    "import ROOT"
   ]
  },
  {
   "cell_type": "code",
   "execution_count": 3,
   "metadata": {},
   "outputs": [
    {
     "name": "stderr",
     "output_type": "stream",
     "text": [
      "Warning in <TClass::Init>: no dictionary for class DataHeader_p5 is available\n",
      "Warning in <TClass::Init>: no dictionary for class DataHeaderElement_p5 is available\n",
      "Warning in <TClass::Init>: no dictionary for class DataHeaderForm_p5 is available\n",
      "Warning in <TClass::Init>: no dictionary for class IOVMetaDataContainer_p1 is available\n",
      "Warning in <TClass::Init>: no dictionary for class IOVPayloadContainer_p1 is available\n",
      "Warning in <TClass::Init>: no dictionary for class IOVPayloadContainer_p1::CondAttrListCollection_p1 is available\n",
      "Warning in <TClass::Init>: no dictionary for class IOVPayloadContainer_p1::CondAttrListEntry_p1 is available\n",
      "Warning in <TClass::Init>: no dictionary for class IOVPayloadContainer_p1::IOVRange_p1 is available\n",
      "Warning in <TClass::Init>: no dictionary for class AttrListIndexes is available\n",
      "Warning in <TClass::Init>: no dictionary for class xAOD::CutBookkeeper_v1 is available\n",
      "Warning in <TClass::Init>: no dictionary for class SG::AuxElement is available\n",
      "Warning in <TClass::Init>: no dictionary for class SG::IAuxElement is available\n",
      "Warning in <TClass::Init>: no dictionary for class xAOD::CutBookkeeperAuxContainer_v1 is available\n",
      "Warning in <TClass::Init>: no dictionary for class xAOD::AuxContainerBase is available\n",
      "Warning in <TClass::Init>: no dictionary for class SG::IAuxStore is available\n",
      "Warning in <TClass::Init>: no dictionary for class SG::IConstAuxStore is available\n",
      "Warning in <TClass::Init>: no dictionary for class SG::IAuxStoreIO is available\n",
      "Warning in <TClass::Init>: no dictionary for class SG::IAuxStoreHolder is available\n",
      "Warning in <TClass::Init>: no dictionary for class ILockable is available\n",
      "Warning in <TClass::Init>: no dictionary for class ElementLink<xAOD::CutBookkeeperContainer_v1> is available\n",
      "Warning in <TClass::Init>: no dictionary for class ElementLinkBase is available\n",
      "Warning in <TClass::Init>: no dictionary for class xAOD::TriggerMenu_v1 is available\n",
      "Warning in <TClass::Init>: no dictionary for class xAOD::TriggerMenuAuxContainer_v1 is available\n",
      "Warning in <TClass::Init>: no dictionary for class xAOD::EventFormat_v1 is available\n",
      "Warning in <TClass::Init>: no dictionary for class PileUpEventInfo_p5 is available\n",
      "Warning in <TClass::Init>: no dictionary for class EventInfo_p4 is available\n",
      "Warning in <TClass::Init>: no dictionary for class EventID_p1 is available\n",
      "Warning in <TClass::Init>: no dictionary for class EventType_p3 is available\n",
      "Warning in <TClass::Init>: no dictionary for class TriggerInfo_p2 is available\n",
      "Warning in <TClass::Init>: no dictionary for class TriggerInfo_p2::StreamTag_p2 is available\n",
      "Warning in <TClass::Init>: no dictionary for class xAOD::TrigConfKeys_v1 is available\n",
      "Warning in <TClass::Init>: no dictionary for class xAOD::EventAuxInfo_v1 is available\n",
      "Warning in <TClass::Init>: no dictionary for class xAOD::AuxInfoBase is available\n",
      "Warning in <TClass::Init>: no dictionary for class xAOD::TrigDecisionAuxInfo_v1 is available\n",
      "Warning in <TClass::Init>: no dictionary for class xAOD::EventInfo_v1 is available\n",
      "Warning in <TClass::Init>: no dictionary for class xAOD::TrigDecision_v1 is available\n",
      "Warning in <TClass::Init>: no dictionary for class xAOD::Electron_v1 is available\n",
      "Warning in <TClass::Init>: no dictionary for class xAOD::Egamma_v1 is available\n",
      "Warning in <TClass::Init>: no dictionary for class xAOD::IParticle is available\n",
      "Warning in <TClass::Init>: no dictionary for class xAOD::MissingET_v1 is available\n",
      "Warning in <TClass::Init>: no dictionary for class xAOD::Photon_v1 is available\n",
      "Warning in <TClass::Init>: no dictionary for class xAOD::TruthParticleAuxContainer_v1 is available\n",
      "Warning in <TClass::Init>: no dictionary for class ElementLink<DataVector<xAOD::TruthVertex_v1> > is available\n",
      "Warning in <TClass::Init>: no dictionary for class xAOD::MuonSegment_v1 is available\n",
      "Warning in <TClass::Init>: no dictionary for class xAOD::TrackCaloCluster_v1 is available\n",
      "Warning in <TClass::Init>: no dictionary for class xAOD::Muon_v1 is available\n",
      "Warning in <TClass::Init>: no dictionary for class xAOD::TruthEvent_v1 is available\n",
      "Warning in <TClass::Init>: no dictionary for class xAOD::TruthEventBase_v1 is available\n",
      "Warning in <TClass::Init>: no dictionary for class xAOD::CaloCluster_v1 is available\n",
      "Warning in <TClass::Init>: no dictionary for class ElementLink<DataVector<xAOD::TrackParticle_v1> > is available\n",
      "Warning in <TClass::Init>: no dictionary for class ElementLink<DataVector<xAOD::TruthParticle_v1> > is available\n",
      "Warning in <TClass::Init>: no dictionary for class ElementLink<DataVector<xAOD::CaloCluster_v1> > is available\n",
      "Warning in <TClass::Init>: no dictionary for class ElementLink<DataVector<xAOD::Vertex_v1> > is available\n",
      "Warning in <TClass::Init>: no dictionary for class ElementLink<DataVector<xAOD::MuonSegment_v1> > is available\n",
      "Warning in <TClass::Init>: no dictionary for class ElementLink<DataVector<xAOD::IParticle> > is available\n",
      "Warning in <TClass::Init>: no dictionary for class xAOD::TruthParticle_v1 is available\n",
      "Warning in <TClass::Init>: no dictionary for class xAOD::TruthVertex_v1 is available\n",
      "Warning in <TClass::Init>: no dictionary for class xAOD::Jet_v1 is available\n",
      "Warning in <TClass::Init>: no dictionary for class xAOD::TruthVertexAuxContainer_v1 is available\n",
      "Warning in <TClass::Init>: no dictionary for class xAOD::BTagging_v1 is available\n",
      "Warning in <TClass::Init>: no dictionary for class xAOD::TrackParticle_v1 is available\n",
      "Warning in <TClass::Init>: no dictionary for class xAOD::JetAuxContainer_v1 is available\n",
      "Warning in <TClass::Init>: no dictionary for class ElementLink<DataVector<xAOD::Jet_v1> > is available\n",
      "Warning in <TClass::Init>: no dictionary for class ElementLink<DataVector<xAOD::BTagging_v1> > is available\n",
      "Warning in <TClass::Init>: no dictionary for class ElementLink<DataVector<xAOD::EventInfo_v1> > is available\n",
      "Warning in <TClass::Init>: no dictionary for class xAOD::FileMetaDataAuxInfo_v1 is available\n",
      "Warning in <TClass::Init>: no dictionary for class EventStreamInfo_p3 is available\n",
      "Warning in <TClass::Init>: no dictionary for class xAOD::FileMetaData_v1 is available\n",
      "Warning in <TClass::Init>: no dictionary for class xAOD::TruthMetaDataAuxContainer_v1 is available\n",
      "Warning in <TClass::Init>: no dictionary for class xAOD::LumiBlockRange_v1 is available\n",
      "Warning in <TClass::Init>: no dictionary for class xAOD::TruthMetaData_v1 is available\n",
      "Warning in <TClass::Init>: no dictionary for class xAOD::LumiBlockRangeAuxContainer_v1 is available\n",
      "Warning in <TClass::Init>: no dictionary for class xAOD::CutBookkeeperContainer_v1 is available\n",
      "Warning in <TClass::Init>: no dictionary for class DataVector<xAOD::TriggerMenu_v1> is available\n",
      "Warning in <TClass::Init>: no dictionary for class DataVector<xAOD::Electron_v1> is available\n",
      "Warning in <TClass::Init>: no dictionary for class xAOD::MissingETContainer_v1 is available\n",
      "Warning in <TClass::Init>: no dictionary for class DataVector<xAOD::Photon_v1> is available\n",
      "Warning in <TClass::Init>: no dictionary for class DataVector<xAOD::MuonSegment_v1> is available\n",
      "Warning in <TClass::Init>: no dictionary for class DataVector<xAOD::TrackCaloCluster_v1> is available\n",
      "Warning in <TClass::Init>: no dictionary for class DataVector<xAOD::Muon_v1> is available\n",
      "Warning in <TClass::Init>: no dictionary for class DataVector<xAOD::TruthEvent_v1> is available\n",
      "Warning in <TClass::Init>: no dictionary for class DataVector<xAOD::CaloCluster_v1> is available\n",
      "Warning in <TClass::Init>: no dictionary for class DataVector<xAOD::TruthParticle_v1> is available\n",
      "Warning in <TClass::Init>: no dictionary for class DataVector<xAOD::TruthVertex_v1> is available\n",
      "Warning in <TClass::Init>: no dictionary for class DataVector<xAOD::Jet_v1> is available\n",
      "Warning in <TClass::Init>: no dictionary for class DataVector<xAOD::BTagging_v1> is available\n",
      "Warning in <TClass::Init>: no dictionary for class DataVector<xAOD::TrackParticle_v1> is available\n",
      "Warning in <TClass::Init>: no dictionary for class DataVector<xAOD::LumiBlockRange_v1> is available\n",
      "Warning in <TClass::Init>: no dictionary for class DataVector<xAOD::TruthMetaData_v1> is available\n"
     ]
    }
   ],
   "source": [
    "path=\"../Ztt.root\"\n",
    "f=ROOT.TFile(path,\"r\")"
   ]
  },
  {
   "cell_type": "code",
   "execution_count": 4,
   "metadata": {},
   "outputs": [],
   "source": [
    "import math,os,glob,h5py\n",
    "import numpy as np\n",
    "import matplotlib.pyplot as plt\n",
    "from sklearn.metrics import roc_curve, roc_auc_score"
   ]
  },
  {
   "cell_type": "code",
   "execution_count": 8,
   "metadata": {},
   "outputs": [
    {
     "name": "stdout",
     "output_type": "stream",
     "text": [
      "(59696,)\n"
     ]
    }
   ],
   "source": [
    "path=\"../user.dguest.22965633._000002.output.h5\"\n",
    "f=h5py.File(path)\n",
    "data=f.get('fat_jet')\n",
    "#data=f.get('predict')\n",
    "#data=f.get('test')\n",
    "#data=f.get('data')\n",
    "print(data.shape)"
   ]
  },
  {
   "cell_type": "code",
   "execution_count": 10,
   "metadata": {},
   "outputs": [
    {
     "ename": "AttributeError",
     "evalue": "'Dataset' object has no attribute 'keys'",
     "output_type": "error",
     "traceback": [
      "\u001b[0;31m---------------------------------------------------------------------------\u001b[0m",
      "\u001b[0;31mAttributeError\u001b[0m                            Traceback (most recent call last)",
      "\u001b[0;32m<ipython-input-10-04f499086028>\u001b[0m in \u001b[0;36m<module>\u001b[0;34m\u001b[0m\n\u001b[0;32m----> 1\u001b[0;31m \u001b[0;32mfor\u001b[0m \u001b[0mi\u001b[0m \u001b[0;32min\u001b[0m \u001b[0mdata\u001b[0m\u001b[0;34m.\u001b[0m\u001b[0mkeys\u001b[0m\u001b[0;34m(\u001b[0m\u001b[0;34m)\u001b[0m\u001b[0;34m:\u001b[0m\u001b[0;34m\u001b[0m\u001b[0;34m\u001b[0m\u001b[0m\n\u001b[0m\u001b[1;32m      2\u001b[0m     \u001b[0mprint\u001b[0m\u001b[0;34m(\u001b[0m\u001b[0mi\u001b[0m\u001b[0;34m)\u001b[0m\u001b[0;34m\u001b[0m\u001b[0;34m\u001b[0m\u001b[0m\n",
      "\u001b[0;31mAttributeError\u001b[0m: 'Dataset' object has no attribute 'keys'"
     ]
    }
   ],
   "source": [
    "for i in data.keys():\n",
    "    print(i)"
   ]
  },
  {
   "cell_type": "code",
   "execution_count": 11,
   "metadata": {},
   "outputs": [],
   "source": [
    "import pandas as pd"
   ]
  },
  {
   "cell_type": "code",
   "execution_count": 13,
   "metadata": {},
   "outputs": [],
   "source": [
    "h1=pd.read_hdf(path,'fat_jet')"
   ]
  },
  {
   "cell_type": "code",
   "execution_count": null,
   "metadata": {},
   "outputs": [],
   "source": []
  }
 ],
 "metadata": {
  "kernelspec": {
   "display_name": "PyROOT - Python3",
   "language": "python",
   "name": "pyroot3"
  },
  "language_info": {
   "codemirror_mode": {
    "name": "ipython",
    "version": 3
   },
   "file_extension": ".py",
   "mimetype": "text/x-python",
   "name": "python",
   "nbconvert_exporter": "python",
   "pygments_lexer": "ipython3",
   "version": "3.6.8"
  }
 },
 "nbformat": 4,
 "nbformat_minor": 4
}
